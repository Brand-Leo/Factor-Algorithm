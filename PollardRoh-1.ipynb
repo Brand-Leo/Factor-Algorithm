{
 "cells": [
  {
   "cell_type": "code",
   "execution_count": 2,
   "id": "c6ccace5",
   "metadata": {},
   "outputs": [],
   "source": [
    "import random\n",
    "import math"
   ]
  },
  {
   "cell_type": "markdown",
   "id": "67689e44",
   "metadata": {},
   "source": [
    "## Función para generar el máximo común divisor (gcd)"
   ]
  },
  {
   "cell_type": "code",
   "execution_count": 3,
   "id": "9d0c151b",
   "metadata": {},
   "outputs": [],
   "source": [
    "def gcd(a,b):\n",
    "    while b:\n",
    "        a,b = b , a%b\n",
    "    return a "
   ]
  },
  {
   "cell_type": "markdown",
   "id": "79e60f96",
   "metadata": {},
   "source": [
    "## Función para verificar si un núḿero es primo"
   ]
  },
  {
   "cell_type": "code",
   "execution_count": 4,
   "id": "e08cd755",
   "metadata": {},
   "outputs": [],
   "source": [
    "def is_prime(n):\n",
    "    \"\"\"Test de primalidad básico\"\"\"\n",
    "    if n < 2:\n",
    "        return False\n",
    "    if n == 2:\n",
    "        return True\n",
    "    if n % 2 == 0:\n",
    "        return False\n",
    "    \n",
    "    for i in range(3, int(math.sqrt(n)) + 1, 2):\n",
    "        if n % i == 0:\n",
    "            return False\n",
    "    return True"
   ]
  },
  {
   "cell_type": "markdown",
   "id": "7f4870e0",
   "metadata": {},
   "source": [
    "## Algoritmo Rho de Pollard"
   ]
  },
  {
   "cell_type": "code",
   "execution_count": 5,
   "id": "88e2daf8",
   "metadata": {},
   "outputs": [],
   "source": [
    "def pollard_rho(n,x0=2,c=1,max_iter=1000):\n",
    "    iter = 0\n",
    "    if n<=1:\n",
    "        return None\n",
    "\n",
    "    if n%2==0:\n",
    "        return 2\n",
    "    \n",
    "    def f(x):\n",
    "        return (x*x+c)%n\n",
    "\n",
    "    x = x0\n",
    "    y = x0\n",
    "    d = 1\n",
    "\n",
    "    while d == 1:\n",
    "        x = f(x)\n",
    "        y = f(f(y))\n",
    "        d = gcd(abs(x-y),n)\n",
    "        if d == n:\n",
    "            x = random.randint(2, n-1)\n",
    "            y = x\n",
    "            iter += 1\n",
    "            if iter > max_iter:\n",
    "                print(\"No se encontró un factor en el número de iteraciones permitido.\")\n",
    "                return None\n",
    "    \n",
    "    return d"
   ]
  },
  {
   "cell_type": "markdown",
   "id": "49f47918",
   "metadata": {},
   "source": [
    "## Casos Prueba"
   ]
  },
  {
   "cell_type": "code",
   "execution_count": 6,
   "id": "b7dbf978",
   "metadata": {},
   "outputs": [
    {
     "name": "stdout",
     "output_type": "stream",
     "text": [
      "Un factor de 187 es: 11\n"
     ]
    }
   ],
   "source": [
    "n_ejemplo_pequeno = 187\n",
    "factor_encontrado1 = pollard_rho(n_ejemplo_pequeno)\n",
    "print(f\"Un factor de {n_ejemplo_pequeno} es: {factor_encontrado1}\") # Salida: 11 o 17"
   ]
  },
  {
   "cell_type": "code",
   "execution_count": 7,
   "id": "9d1531a8",
   "metadata": {},
   "outputs": [
    {
     "name": "stdout",
     "output_type": "stream",
     "text": [
      "\n",
      "Factorizando 15:\n",
      "  Factor encontrado: 3\n",
      "  15 = 3 × 5\n",
      "\n",
      "Factorizando 77:\n",
      "  Factor encontrado: 7\n",
      "  77 = 7 × 11\n",
      "\n",
      "Factorizando 143:\n",
      "  Factor encontrado: 11\n",
      "  143 = 11 × 13\n",
      "\n",
      "Factorizando 1073:\n",
      "  Factor encontrado: 37\n",
      "  1073 = 37 × 29\n",
      "\n",
      "Factorizando 8051:\n",
      "  Factor encontrado: 97\n",
      "  8051 = 97 × 83\n",
      "\n",
      "Factorizando 12345:\n",
      "  Factor encontrado: 3\n",
      "  12345 = 3 × 4115\n",
      "\n",
      "Factorizando 999983:\n",
      "  999983 es primo, no se puede factorizar.\n"
     ]
    }
   ],
   "source": [
    "test_numbers = [15, 77, 143, 1073, 8051, 12345, 999983]\n",
    "for num in test_numbers:\n",
    "        print(f\"\\nFactorizando {num}:\")\n",
    "        \n",
    "        # Encontrar un factor con Pollard Rho\n",
    "        if is_prime(num):\n",
    "            print(f\"  {num} es primo, no se puede factorizar.\")\n",
    "            continue\n",
    "        factor = pollard_rho(num)\n",
    "        if factor:\n",
    "            other_factor = num // factor\n",
    "            print(f\"  Factor encontrado: {factor}\")\n",
    "            print(f\"  {num} = {factor} × {other_factor}\")\n",
    "        else:\n",
    "            print(f\"  No se encontró factor (posiblemente primo)\")"
   ]
  },
  {
   "cell_type": "code",
   "execution_count": 8,
   "id": "a4c7507a",
   "metadata": {},
   "outputs": [
    {
     "name": "stdout",
     "output_type": "stream",
     "text": [
      "Un factor de 32317006071311007300714876688669951960444102669715484032130345427524655138867890893197201411522913463688717960921898019494119559150490921095088152386448283120630877367300996091750197750389652106796057638384067568276792218642619756161838094338476170470581645852036305042887575891541065808607552399123930385522273872016640805602230835824722374441579771431114783372624665821646491544319462240415675547508992188768183831478204644072915930689930479149389392474512235479982661471560551180277761540929423511708584708484826709472722298633037924401163351387471091809870303156802402201125212970481911580803226566270308044505085 es: 3\n"
     ]
    }
   ],
   "source": [
    "n_ejemplo_grande = (2**1024 - 1) * (2**1024 + 3)\n",
    "factor_encontrado2 = pollard_rho(n_ejemplo_grande)\n",
    "print(f\"Un factor de {n_ejemplo_grande} es: {factor_encontrado2}\")"
   ]
  }
 ],
 "metadata": {
  "kernelspec": {
   "display_name": "Python 3",
   "language": "python",
   "name": "python3"
  },
  "language_info": {
   "codemirror_mode": {
    "name": "ipython",
    "version": 3
   },
   "file_extension": ".py",
   "mimetype": "text/x-python",
   "name": "python",
   "nbconvert_exporter": "python",
   "pygments_lexer": "ipython3",
   "version": "3.12.3"
  }
 },
 "nbformat": 4,
 "nbformat_minor": 5
}

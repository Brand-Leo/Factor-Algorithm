{
 "cells": [
  {
   "cell_type": "code",
   "execution_count": 2,
   "id": "8e48b9c9",
   "metadata": {},
   "outputs": [],
   "source": [
    "import math"
   ]
  },
  {
   "cell_type": "markdown",
   "id": "55fe4846",
   "metadata": {},
   "source": [
    "## Función para determinar si un número es un cuadrado perfecto"
   ]
  },
  {
   "cell_type": "code",
   "execution_count": 3,
   "id": "68c1e1c3",
   "metadata": {},
   "outputs": [],
   "source": [
    "def es_cuadrado_perfecto(n):\n",
    "    if n < 0:\n",
    "        return False\n",
    "    raiz = math.isqrt(n)\n",
    "    return raiz * raiz == n"
   ]
  },
  {
   "cell_type": "markdown",
   "id": "47ce282a",
   "metadata": {},
   "source": [
    "## Método de Fermat"
   ]
  },
  {
   "cell_type": "code",
   "execution_count": 4,
   "id": "fe203620",
   "metadata": {},
   "outputs": [],
   "source": [
    "def metodo_fermat(n):\n",
    "    if n <= 1:\n",
    "        return None\n",
    "    if n % 2 == 0:\n",
    "        return (2,n//2)\n",
    "    \n",
    "    x0 = math.isqrt(n)\n",
    "    y0 = x0 * x0 - n\n",
    "    iter = 0\n",
    "\n",
    "    xi = x0\n",
    "    yi = y0\n",
    "    max_iter = 1000000\n",
    "    while iter < max_iter:\n",
    "        if es_cuadrado_perfecto(yi):\n",
    "            sqrt_yi = math.isqrt(yi)\n",
    "\n",
    "            factor_a = xi + sqrt_yi\n",
    "            factor_b = xi - sqrt_yi\n",
    "            if factor_a > 1 and factor_b > 1 and factor_a * factor_b == n:\n",
    "                return (factor_a, factor_b)\n",
    "        yi_siguiente = yi + 2 * xi + 1\n",
    "        xi_siguiente = xi + 1\n",
    "\n",
    "        xi = xi_siguiente\n",
    "        yi = yi_siguiente\n",
    "        iter += 1\n",
    "    return None"
   ]
  },
  {
   "cell_type": "markdown",
   "id": "df273d40",
   "metadata": {},
   "source": [
    "## Casos Prueba"
   ]
  },
  {
   "cell_type": "code",
   "execution_count": null,
   "id": "c657b46b",
   "metadata": {},
   "outputs": [],
   "source": [
    "numeros = [481, 35, 77, 91, 143, 221, 323, 667, 1001, 1769]\n",
    "for n1 in numeros:\n",
    "    resultado = metodo_fermat(n1)\n",
    "    if resultado:\n",
    "        print(f\"{n1} = {resultado[0]} * {resultado[1]}\")\n",
    "    else:\n",
    "        print(f\"{n1} no se puede factorizar con el método de Fermat.\")"
   ]
  }
 ],
 "metadata": {
  "kernelspec": {
   "display_name": "Python 3",
   "language": "python",
   "name": "python3"
  },
  "language_info": {
   "codemirror_mode": {
    "name": "ipython",
    "version": 3
   },
   "file_extension": ".py",
   "mimetype": "text/x-python",
   "name": "python",
   "nbconvert_exporter": "python",
   "pygments_lexer": "ipython3",
   "version": "3.12.3"
  }
 },
 "nbformat": 4,
 "nbformat_minor": 5
}
